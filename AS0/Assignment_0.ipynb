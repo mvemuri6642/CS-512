{
 "cells": [
  {
   "cell_type": "markdown",
   "id": "b4e38a17",
   "metadata": {},
   "source": [
    "NAME     : SAI MANOHAR VEMURI \\\n",
    "ID       : A20514848\\\n",
    "Course   : CS512\\\n",
    "SEMESTER : SPRING 23\\\n",
    "ASSIGNMENT 0"
   ]
  },
  {
   "cell_type": "code",
   "execution_count": 25,
   "id": "d19f0afa",
   "metadata": {},
   "outputs": [],
   "source": [
    "import numpy as np\n",
    "a=np.array([1,2,3]).reshape(3,1)\n",
    "b=np.array([4,5,6]).reshape(3,1)\n",
    "c=np.array([-1,1,3]).reshape(3,1)"
   ]
  },
  {
   "cell_type": "code",
   "execution_count": 195,
   "id": "8abe7f7f",
   "metadata": {},
   "outputs": [
    {
     "name": "stdout",
     "output_type": "stream",
     "text": [
      "A=\n",
      " [[1]\n",
      " [2]\n",
      " [3]]\n",
      "B=\n",
      " [[4]\n",
      " [5]\n",
      " [6]]\n",
      "C=\n",
      " [[-1]\n",
      " [ 1]\n",
      " [ 3]]\n"
     ]
    }
   ],
   "source": [
    "print('A=\\n',a)\n",
    "print('B=\\n',b)\n",
    "print('C=\\n',c)\n"
   ]
  },
  {
   "cell_type": "markdown",
   "id": "f1dd2110",
   "metadata": {},
   "source": [
    "# A-1"
   ]
  },
  {
   "cell_type": "code",
   "execution_count": 26,
   "id": "b727b755",
   "metadata": {},
   "outputs": [
    {
     "data": {
      "text/plain": [
       "array([[-2],\n",
       "       [-1],\n",
       "       [ 0]])"
      ]
     },
     "execution_count": 26,
     "metadata": {},
     "output_type": "execute_result"
    }
   ],
   "source": [
    "(2*a)-b"
   ]
  },
  {
   "cell_type": "markdown",
   "id": "dd9b7ad5",
   "metadata": {},
   "source": [
    "# A-2"
   ]
  },
  {
   "cell_type": "code",
   "execution_count": 30,
   "id": "fe49f7ec",
   "metadata": {},
   "outputs": [
    {
     "name": "stdout",
     "output_type": "stream",
     "text": [
      "[[0.26726124]\n",
      " [0.53452248]\n",
      " [0.80178373]]\n"
     ]
    }
   ],
   "source": [
    "import math\n",
    "def magnitude(x):\n",
    "    return math.sqrt(sum(x**2))\n",
    "\n",
    "a_mag=magnitude(a)\n",
    "uv=a/a_mag\n",
    "print(uv)"
   ]
  },
  {
   "cell_type": "markdown",
   "id": "1d9932aa",
   "metadata": {},
   "source": [
    "# A-3"
   ]
  },
  {
   "cell_type": "code",
   "execution_count": 43,
   "id": "8a9bca03",
   "metadata": {},
   "outputs": [
    {
     "name": "stdout",
     "output_type": "stream",
     "text": [
      "74.92993785511118\n"
     ]
    }
   ],
   "source": [
    "bX=np.array([1,0,0]).reshape(3,1)\n",
    "#bX is X axis\n",
    "Cosθ=(a*bX)/(magnitude(a)*magnitude(bX))\n",
    "invCosθ=math.degrees(np.arccos(0.26))\n",
    "print(invCosθ)"
   ]
  },
  {
   "cell_type": "markdown",
   "id": "042b96ee",
   "metadata": {},
   "source": [
    "# A-4"
   ]
  },
  {
   "cell_type": "code",
   "execution_count": 45,
   "id": "efa5821a",
   "metadata": {},
   "outputs": [
    {
     "name": "stdout",
     "output_type": "stream",
     "text": [
      "[[0.26726124]\n",
      " [0.53452248]\n",
      " [0.80178373]]\n"
     ]
    }
   ],
   "source": [
    "CosDirection_A=(a/magnitude(a))\n",
    "print(CosDirection_A)"
   ]
  },
  {
   "cell_type": "markdown",
   "id": "b17be7d6",
   "metadata": {},
   "source": [
    "# A-5"
   ]
  },
  {
   "cell_type": "code",
   "execution_count": 88,
   "id": "0608f3d5",
   "metadata": {},
   "outputs": [
    {
     "name": "stdout",
     "output_type": "stream",
     "text": [
      "[0.97463185]\n"
     ]
    }
   ],
   "source": [
    "Cosθ=sum(a*b)/(magnitude(a)*magnitude(b))\n",
    "print(Cosθ)"
   ]
  },
  {
   "cell_type": "markdown",
   "id": "3b7944c1",
   "metadata": {},
   "source": [
    "# A-6"
   ]
  },
  {
   "cell_type": "code",
   "execution_count": 62,
   "id": "69f36e30",
   "metadata": {},
   "outputs": [
    {
     "name": "stdout",
     "output_type": "stream",
     "text": [
      "AxB:\n",
      "[[ 4]\n",
      " [10]\n",
      " [18]]\n",
      "\n",
      "BxA:\n",
      "[[ 4]\n",
      " [10]\n",
      " [18]]\n",
      "\n",
      "Commutative\n"
     ]
    }
   ],
   "source": [
    "print('AxB:')\n",
    "print(a*b)\n",
    "print('\\nBxA:')\n",
    "print(b*a)\n",
    "print('\\nCommutative')"
   ]
  },
  {
   "cell_type": "markdown",
   "id": "483703c4",
   "metadata": {},
   "source": [
    "# A-7"
   ]
  },
  {
   "cell_type": "code",
   "execution_count": 65,
   "id": "a60fa1ff",
   "metadata": {},
   "outputs": [
    {
     "name": "stdout",
     "output_type": "stream",
     "text": [
      "[32.]\n"
     ]
    }
   ],
   "source": [
    "print(Cosθ*magnitude(a)*magnitude(b))"
   ]
  },
  {
   "cell_type": "markdown",
   "id": "dae583c3",
   "metadata": {},
   "source": [
    "# A-8"
   ]
  },
  {
   "cell_type": "code",
   "execution_count": 74,
   "id": "ea203941",
   "metadata": {},
   "outputs": [
    {
     "data": {
      "text/plain": [
       "array([8.55235974])"
      ]
     },
     "execution_count": 74,
     "metadata": {},
     "output_type": "execute_result"
    }
   ],
   "source": [
    "sum(a*b)/magnitude(a)"
   ]
  },
  {
   "cell_type": "markdown",
   "id": "b78a55a4",
   "metadata": {},
   "source": [
    "# A-9"
   ]
  },
  {
   "cell_type": "code",
   "execution_count": 190,
   "id": "aef85ab9",
   "metadata": {},
   "outputs": [
    {
     "name": "stdout",
     "output_type": "stream",
     "text": [
      "[{x1: -23}]\n",
      "\n",
      "vector which is perpendicular to A is:\n",
      "[[-23]\n",
      " [4]\n",
      " [5]]\n"
     ]
    }
   ],
   "source": [
    "from sympy import symbols, Eq, solve\n",
    "x1,x2,x3 = symbols('x1 x2 x3')\n",
    "expr = x1+2*x2+3*x3\n",
    "# set random values to x2 and x3. X2=4 and X3=5\n",
    "expr=expr.subs({x2:4, x3: 5})\n",
    "sol=solve(expr, dict=True)\n",
    "print(sol)\n",
    "# vector which is perpendicular to A:\n",
    "perpVector=np.array([sol[0][x1],4,5]).reshape(3,1)\n",
    "print('\\nvector which is perpendicular to A is:')\n",
    "print(perpVector)"
   ]
  },
  {
   "cell_type": "markdown",
   "id": "d7b21208",
   "metadata": {},
   "source": [
    "# A-10"
   ]
  },
  {
   "cell_type": "code",
   "execution_count": 201,
   "id": "c9566420",
   "metadata": {},
   "outputs": [
    {
     "name": "stdout",
     "output_type": "stream",
     "text": [
      "a X b= [[-3  6 -3]]\n",
      "b X a= [[ 3 -6  3]]\n"
     ]
    }
   ],
   "source": [
    "print('a X b=',np.cross(a.reshape(1,3),b.reshape(1,3)))\n",
    "print('b X a=',np.cross(b.reshape(1,3),a.reshape(1,3)))"
   ]
  },
  {
   "cell_type": "markdown",
   "id": "c8f4115e",
   "metadata": {},
   "source": [
    "# A-11"
   ]
  },
  {
   "cell_type": "code",
   "execution_count": 202,
   "id": "4f3ea7f9",
   "metadata": {},
   "outputs": [
    {
     "name": "stdout",
     "output_type": "stream",
     "text": [
      "a X b= [[-3  6 -3]]\n"
     ]
    }
   ],
   "source": [
    "print('a X b=',np.cross(a.reshape(1,3),b.reshape(1,3)))"
   ]
  },
  {
   "cell_type": "markdown",
   "id": "6cfe9705",
   "metadata": {},
   "source": [
    "# A-12"
   ]
  },
  {
   "cell_type": "code",
   "execution_count": 242,
   "id": "be4824bb",
   "metadata": {},
   "outputs": [
    {
     "name": "stdout",
     "output_type": "stream",
     "text": [
      "[[ 1  4 -1]\n",
      " [ 2  5  1]\n",
      " [ 3  6  3]]\n",
      "0\n",
      "there exist a linear dependency in the columns of the matrix\n"
     ]
    },
    {
     "name": "stderr",
     "output_type": "stream",
     "text": [
      "C:\\Users\\MANOHA~1\\AppData\\Local\\Temp/ipykernel_14700/1634091664.py:9: FutureWarning: `rcond` parameter will change to the default of machine precision times ``max(M, N)`` where M and N are the input matrix dimensions.\n",
      "To use the future default and silence this warning we advise to pass `rcond=None`, to keep using the old, explicitly pass `rcond=-1`.\n",
      "  np.linalg.lstsq(X, y )\n"
     ]
    },
    {
     "data": {
      "text/plain": [
       "(array([0., 0., 0.]),\n",
       " array([], dtype=float64),\n",
       " 2,\n",
       " array([9.78772464e+00, 2.49006956e+00, 2.15329741e-16]))"
      ]
     },
     "execution_count": 242,
     "metadata": {},
     "output_type": "execute_result"
    }
   ],
   "source": [
    "\n",
    "import math\n",
    "X=np.array([a.reshape(1,3),b.reshape(1,3),c.reshape(1,3)])\n",
    "X=np.matrix(X).transpose()\n",
    "print(X)\n",
    "y=np.array([0,0,0])\n",
    "Z=np.linalg.det(X)\n",
    "print(round(Z))\n",
    "print(\"there exist a linear dependency in the columns of the matrix\")\n",
    "np.linalg.lstsq(X, y )\n",
    "\n"
   ]
  },
  {
   "cell_type": "markdown",
   "id": "10e4b14c",
   "metadata": {},
   "source": [
    "# A-13"
   ]
  },
  {
   "cell_type": "code",
   "execution_count": 243,
   "id": "756cd10b",
   "metadata": {},
   "outputs": [
    {
     "name": "stdout",
     "output_type": "stream",
     "text": [
      "AtB= [[ 4  5  6]\n",
      " [ 8 10 12]\n",
      " [12 15 18]]\n",
      "\n",
      "BtA= [[32]]\n"
     ]
    }
   ],
   "source": [
    "a=np.matrix([1,2,3])\n",
    "b=np.matrix([4,5,6])\n",
    "print('AtB=',a.transpose()*b)\n",
    "\n",
    "\n",
    "print('\\nBtA=',a*b.transpose())"
   ]
  },
  {
   "cell_type": "code",
   "execution_count": null,
   "id": "a436601a",
   "metadata": {},
   "outputs": [],
   "source": []
  },
  {
   "cell_type": "markdown",
   "id": "e1fc0622",
   "metadata": {},
   "source": [
    "# B-1"
   ]
  },
  {
   "cell_type": "code",
   "execution_count": 282,
   "id": "5f5096c0",
   "metadata": {},
   "outputs": [
    {
     "name": "stdout",
     "output_type": "stream",
     "text": [
      "[[ 1  2  5]\n",
      " [ 6 -5 10]\n",
      " [-3 12 -3]]\n"
     ]
    }
   ],
   "source": [
    "A=np.matrix([[1,2,3],[4,-2,3],[0,5,-1]])\n",
    "B=np.matrix([[1,2,1],[2,1,-4],[3,-2,1]])\n",
    "C=np.matrix([[1,2,3],[4,5,6],[-1,1,3]])\n",
    "print((2*A)-B)"
   ]
  },
  {
   "cell_type": "markdown",
   "id": "da8901c2",
   "metadata": {},
   "source": [
    "# B-2"
   ]
  },
  {
   "cell_type": "code",
   "execution_count": 248,
   "id": "8dc24984",
   "metadata": {},
   "outputs": [
    {
     "name": "stdout",
     "output_type": "stream",
     "text": [
      "A.B:\n",
      " [[ 14  -2  -4]\n",
      " [  9   0  15]\n",
      " [  7   7 -21]]\n",
      "B.A:\n",
      " [[  9   3   8]\n",
      " [  6 -18  13]\n",
      " [ -5  15   2]]\n"
     ]
    }
   ],
   "source": [
    "print('A.B:\\n',np.matmul(A,B))\n",
    "print('B.A:\\n',np.matmul(B,A))"
   ]
  },
  {
   "cell_type": "markdown",
   "id": "181d3c15",
   "metadata": {},
   "source": [
    "# B-3"
   ]
  },
  {
   "cell_type": "code",
   "execution_count": 255,
   "id": "d53ea1f4",
   "metadata": {},
   "outputs": [
    {
     "name": "stdout",
     "output_type": "stream",
     "text": [
      "(A.B)T:\n",
      " [[ 14   9   7]\n",
      " [ -2   0   7]\n",
      " [ -4  15 -21]]\n",
      "\n",
      "AT.BT:\n",
      " [[ 14   9   7]\n",
      " [ -2   0   7]\n",
      " [ -4  15 -21]]\n"
     ]
    }
   ],
   "source": [
    "print('(A.B)T:\\n',np.matmul(A,B).transpose())\n",
    "print('\\nAT.BT:\\n',np.matmul(B.transpose(),A.transpose()))"
   ]
  },
  {
   "cell_type": "markdown",
   "id": "1299d845",
   "metadata": {},
   "source": [
    "# B-4"
   ]
  },
  {
   "cell_type": "code",
   "execution_count": 259,
   "id": "a1f19704",
   "metadata": {},
   "outputs": [
    {
     "name": "stdout",
     "output_type": "stream",
     "text": [
      "|A|: 54.999999999999964\n",
      "|C| 7.494005416219837e-16\n"
     ]
    }
   ],
   "source": [
    "print('|A|:',np.linalg.det(A))\n",
    "print('|C|',np.linalg.det(C))"
   ]
  },
  {
   "cell_type": "markdown",
   "id": "8df90d1f",
   "metadata": {},
   "source": [
    "# B-5"
   ]
  },
  {
   "cell_type": "code",
   "execution_count": null,
   "id": "c4ee7cf9",
   "metadata": {},
   "outputs": [],
   "source": [
    "x=np.matrix([[1,0,0],[0,0,0],[0,0,0]])\n",
    "print(\" for A\")\n",
    "print(A.transpose()*A)\n",
    "print(\"for B\")\n",
    "print(B.transpose()*B)\n",
    "print(\"for C\")\n",
    "print(C.transpose()*C)"
   ]
  },
  {
   "cell_type": "markdown",
   "id": "d0322305",
   "metadata": {},
   "source": [
    "# B-6"
   ]
  },
  {
   "cell_type": "code",
   "execution_count": 262,
   "id": "92f76f6b",
   "metadata": {},
   "outputs": [
    {
     "name": "stdout",
     "output_type": "stream",
     "text": [
      "A inverse:\n",
      " [[-0.23636364  0.30909091  0.21818182]\n",
      " [ 0.07272727 -0.01818182  0.16363636]\n",
      " [ 0.36363636 -0.09090909 -0.18181818]]\n",
      "\n",
      "B inverse:\n",
      " [[ 0.16666667  0.0952381   0.21428571]\n",
      " [ 0.33333333  0.04761905 -0.14285714]\n",
      " [ 0.16666667 -0.19047619  0.07142857]]\n"
     ]
    }
   ],
   "source": [
    "print(\"A inverse:\\n\",np.linalg.inv(A))\n",
    "print()\n",
    "print(\"B inverse:\\n\",np.linalg.inv(B))"
   ]
  },
  {
   "cell_type": "markdown",
   "id": "a8d56f2b",
   "metadata": {},
   "source": [
    "# B-7"
   ]
  },
  {
   "cell_type": "code",
   "execution_count": 263,
   "id": "d292b0d1",
   "metadata": {},
   "outputs": [
    {
     "name": "stdout",
     "output_type": "stream",
     "text": [
      "Since determinant is 0, it is non invertible\n"
     ]
    }
   ],
   "source": [
    "print('Since determinant is 0, it is non invertible')"
   ]
  },
  {
   "cell_type": "markdown",
   "id": "82640ece",
   "metadata": {},
   "source": [
    "# B-8"
   ]
  },
  {
   "cell_type": "code",
   "execution_count": 264,
   "id": "79f4d0a0",
   "metadata": {},
   "outputs": [
    {
     "name": "stdout",
     "output_type": "stream",
     "text": [
      "[[14]\n",
      " [ 9]\n",
      " [ 7]]\n"
     ]
    }
   ],
   "source": [
    "print(np.matmul(A,np.matrix([[1,2,3]]).transpose()))"
   ]
  },
  {
   "cell_type": "markdown",
   "id": "69290d7c",
   "metadata": {},
   "source": [
    "# B-9"
   ]
  },
  {
   "cell_type": "code",
   "execution_count": 287,
   "id": "826da2be",
   "metadata": {},
   "outputs": [
    {
     "name": "stdout",
     "output_type": "stream",
     "text": [
      "3.7416573867739413\n",
      "2.4053511772118195\n",
      "1.8708286933869707\n"
     ]
    }
   ],
   "source": [
    "A=np.array([[1,2,3],[4,-2,3],[0,5,-1]])\n",
    "d=np.array([1,2,3])\n",
    "for i in range(len(A)):\n",
    "    print(sum(A[i]*d)/magnitude(d))"
   ]
  },
  {
   "cell_type": "markdown",
   "id": "f273ed8f",
   "metadata": {},
   "source": [
    "# B-10"
   ]
  },
  {
   "cell_type": "code",
   "execution_count": 294,
   "id": "d5dc9126",
   "metadata": {},
   "outputs": [
    {
     "name": "stdout",
     "output_type": "stream",
     "text": [
      "[1. 2. 3.]\n",
      "[0.64285714 1.28571429 1.92857143]\n",
      "[0.5 1.  1.5]\n"
     ]
    }
   ],
   "source": [
    "for i in range(len(A)):\n",
    "    AXD=sum(A[i]*d)\n",
    "    mag=magnitude(d)**2\n",
    "    vecPro=AXD/mag\n",
    "    print(vecPro*d)"
   ]
  },
  {
   "cell_type": "markdown",
   "id": "ce0ec8a1",
   "metadata": {},
   "source": [
    "# B-11"
   ]
  },
  {
   "cell_type": "code",
   "execution_count": 295,
   "id": "cf7c0735",
   "metadata": {},
   "outputs": [
    {
     "name": "stdout",
     "output_type": "stream",
     "text": [
      "[14  9  7]\n"
     ]
    }
   ],
   "source": [
    "d1=d[0]*A.transpose()[0]\n",
    "d2=d[1]*A.transpose()[1]\n",
    "d3=d[2]*A.transpose()[2]\n",
    "print(d1+d2+d3)"
   ]
  },
  {
   "cell_type": "markdown",
   "id": "fbbfb678",
   "metadata": {},
   "source": [
    "# B-12"
   ]
  },
  {
   "cell_type": "code",
   "execution_count": 296,
   "id": "483dcdac",
   "metadata": {},
   "outputs": [
    {
     "name": "stdout",
     "output_type": "stream",
     "text": [
      "[ 1.00000000e+00  2.37904934e-17 -1.18952467e-17]\n"
     ]
    }
   ],
   "source": [
    "print(np.linalg.solve(B, d))"
   ]
  },
  {
   "cell_type": "markdown",
   "id": "886c71f1",
   "metadata": {},
   "source": [
    "# B-13"
   ]
  },
  {
   "cell_type": "code",
   "execution_count": 298,
   "id": "2d8977cb",
   "metadata": {},
   "outputs": [
    {
     "name": "stdout",
     "output_type": "stream",
     "text": [
      "[-8.00639934e+15  1.60127987e+16 -8.00639934e+15]\n",
      "There is no solution\n"
     ]
    }
   ],
   "source": [
    "print(np.linalg.solve(C, d))\n",
    "print('There is no solution')"
   ]
  },
  {
   "cell_type": "code",
   "execution_count": null,
   "id": "6832610c",
   "metadata": {},
   "outputs": [],
   "source": []
  },
  {
   "cell_type": "markdown",
   "id": "a201a944",
   "metadata": {},
   "source": [
    "# C-1"
   ]
  },
  {
   "cell_type": "code",
   "execution_count": 307,
   "id": "b5980a99",
   "metadata": {},
   "outputs": [
    {
     "name": "stdout",
     "output_type": "stream",
     "text": [
      "[[1 2]\n",
      " [3 2]]\n",
      "Eigen value:\n",
      " [-1.  4.]\n",
      "Eigen Vector\n",
      " [[-0.70710678 -0.5547002 ]\n",
      " [ 0.70710678 -0.83205029]]\n"
     ]
    }
   ],
   "source": [
    "from numpy.linalg import eig\n",
    "D=np.array([[1,2],[3,2]])\n",
    "print(D)\n",
    "val,vec=eig(D)\n",
    "print('Eigen value:\\n',val)\n",
    "print('Eigen Vector\\n',vec)"
   ]
  },
  {
   "cell_type": "markdown",
   "id": "0ecadc90",
   "metadata": {},
   "source": [
    "# C-2"
   ]
  },
  {
   "cell_type": "code",
   "execution_count": 303,
   "id": "0bcfae89",
   "metadata": {},
   "outputs": [
    {
     "name": "stdout",
     "output_type": "stream",
     "text": [
      "-0.038461536048910505\n"
     ]
    }
   ],
   "source": [
    "vec1=np.array([-0.70710678,-0.5547002])\n",
    "vec2=np.array([0.70710678,-0.83205029])\n",
    "print(np.dot(vec1,vec2))"
   ]
  },
  {
   "cell_type": "markdown",
   "id": "9bb0e8b5",
   "metadata": {},
   "source": [
    "# C-3"
   ]
  },
  {
   "cell_type": "code",
   "execution_count": 306,
   "id": "b9cbe610",
   "metadata": {},
   "outputs": [
    {
     "name": "stdout",
     "output_type": "stream",
     "text": [
      "Eigen value:\n",
      " [1. 6.]\n",
      "Eigen Vector\n",
      " [[-0.89442719  0.4472136 ]\n",
      " [-0.4472136  -0.89442719]]\n"
     ]
    }
   ],
   "source": [
    "E=np.array([[2,-2],[-2,5]])\n",
    "val,vec=eig(E)\n",
    "print('Eigen value:\\n',val)\n",
    "print('Eigen Vector\\n',vec)"
   ]
  },
  {
   "cell_type": "markdown",
   "id": "2bf25831",
   "metadata": {},
   "source": [
    "# C-4"
   ]
  },
  {
   "cell_type": "code",
   "execution_count": 308,
   "id": "3c6a740c",
   "metadata": {},
   "outputs": [
    {
     "name": "stdout",
     "output_type": "stream",
     "text": [
      "0.0\n",
      "The matrix is symmetrical and positive definite matrix where every eigen value is positive\n"
     ]
    }
   ],
   "source": [
    "vec1=np.array([-0.89442719,0.4472136])\n",
    "vec2=np.array([-0.4472136,-0.89442719])\n",
    "print(np.dot(vec1,vec2))\n",
    "print(\"The matrix is symmetrical and positive definite matrix where every eigen value is positive\")"
   ]
  },
  {
   "cell_type": "markdown",
   "id": "692f544e",
   "metadata": {},
   "source": [
    "# C-5"
   ]
  },
  {
   "cell_type": "code",
   "execution_count": 311,
   "id": "dc0b65d4",
   "metadata": {},
   "outputs": [
    {
     "ename": "LinAlgError",
     "evalue": "Singular matrix",
     "output_type": "error",
     "traceback": [
      "\u001b[1;31m---------------------------------------------------------------------------\u001b[0m",
      "\u001b[1;31mLinAlgError\u001b[0m                               Traceback (most recent call last)",
      "\u001b[1;32mC:\\Users\\MANOHA~1\\AppData\\Local\\Temp/ipykernel_14700/2943569919.py\u001b[0m in \u001b[0;36m<module>\u001b[1;34m\u001b[0m\n\u001b[0;32m      1\u001b[0m \u001b[0mF\u001b[0m\u001b[1;33m=\u001b[0m\u001b[0mnp\u001b[0m\u001b[1;33m.\u001b[0m\u001b[0marray\u001b[0m\u001b[1;33m(\u001b[0m\u001b[1;33m[\u001b[0m\u001b[1;33m[\u001b[0m\u001b[1;36m1\u001b[0m\u001b[1;33m,\u001b[0m\u001b[1;36m2\u001b[0m\u001b[1;33m]\u001b[0m\u001b[1;33m,\u001b[0m\u001b[1;33m[\u001b[0m\u001b[1;36m2\u001b[0m\u001b[1;33m,\u001b[0m\u001b[1;36m4\u001b[0m\u001b[1;33m]\u001b[0m\u001b[1;33m]\u001b[0m\u001b[1;33m)\u001b[0m\u001b[1;33m\u001b[0m\u001b[1;33m\u001b[0m\u001b[0m\n\u001b[0;32m      2\u001b[0m \u001b[0md\u001b[0m\u001b[1;33m=\u001b[0m\u001b[0mnp\u001b[0m\u001b[1;33m.\u001b[0m\u001b[0marray\u001b[0m\u001b[1;33m(\u001b[0m\u001b[1;33m[\u001b[0m\u001b[1;36m0\u001b[0m\u001b[1;33m,\u001b[0m\u001b[1;36m0\u001b[0m\u001b[1;33m]\u001b[0m\u001b[1;33m)\u001b[0m\u001b[1;33m\u001b[0m\u001b[1;33m\u001b[0m\u001b[0m\n\u001b[1;32m----> 3\u001b[1;33m \u001b[0mprint\u001b[0m\u001b[1;33m(\u001b[0m\u001b[0mnp\u001b[0m\u001b[1;33m.\u001b[0m\u001b[0mlinalg\u001b[0m\u001b[1;33m.\u001b[0m\u001b[0msolve\u001b[0m\u001b[1;33m(\u001b[0m\u001b[0mF\u001b[0m\u001b[1;33m,\u001b[0m \u001b[0md\u001b[0m\u001b[1;33m)\u001b[0m\u001b[1;33m)\u001b[0m\u001b[1;33m\u001b[0m\u001b[1;33m\u001b[0m\u001b[0m\n\u001b[0m",
      "\u001b[1;32m<__array_function__ internals>\u001b[0m in \u001b[0;36msolve\u001b[1;34m(*args, **kwargs)\u001b[0m\n",
      "\u001b[1;32mC:\\ProgramData\\Anaconda3\\lib\\site-packages\\numpy\\linalg\\linalg.py\u001b[0m in \u001b[0;36msolve\u001b[1;34m(a, b)\u001b[0m\n\u001b[0;32m    391\u001b[0m     \u001b[0msignature\u001b[0m \u001b[1;33m=\u001b[0m \u001b[1;34m'DD->D'\u001b[0m \u001b[1;32mif\u001b[0m \u001b[0misComplexType\u001b[0m\u001b[1;33m(\u001b[0m\u001b[0mt\u001b[0m\u001b[1;33m)\u001b[0m \u001b[1;32melse\u001b[0m \u001b[1;34m'dd->d'\u001b[0m\u001b[1;33m\u001b[0m\u001b[1;33m\u001b[0m\u001b[0m\n\u001b[0;32m    392\u001b[0m     \u001b[0mextobj\u001b[0m \u001b[1;33m=\u001b[0m \u001b[0mget_linalg_error_extobj\u001b[0m\u001b[1;33m(\u001b[0m\u001b[0m_raise_linalgerror_singular\u001b[0m\u001b[1;33m)\u001b[0m\u001b[1;33m\u001b[0m\u001b[1;33m\u001b[0m\u001b[0m\n\u001b[1;32m--> 393\u001b[1;33m     \u001b[0mr\u001b[0m \u001b[1;33m=\u001b[0m \u001b[0mgufunc\u001b[0m\u001b[1;33m(\u001b[0m\u001b[0ma\u001b[0m\u001b[1;33m,\u001b[0m \u001b[0mb\u001b[0m\u001b[1;33m,\u001b[0m \u001b[0msignature\u001b[0m\u001b[1;33m=\u001b[0m\u001b[0msignature\u001b[0m\u001b[1;33m,\u001b[0m \u001b[0mextobj\u001b[0m\u001b[1;33m=\u001b[0m\u001b[0mextobj\u001b[0m\u001b[1;33m)\u001b[0m\u001b[1;33m\u001b[0m\u001b[1;33m\u001b[0m\u001b[0m\n\u001b[0m\u001b[0;32m    394\u001b[0m \u001b[1;33m\u001b[0m\u001b[0m\n\u001b[0;32m    395\u001b[0m     \u001b[1;32mreturn\u001b[0m \u001b[0mwrap\u001b[0m\u001b[1;33m(\u001b[0m\u001b[0mr\u001b[0m\u001b[1;33m.\u001b[0m\u001b[0mastype\u001b[0m\u001b[1;33m(\u001b[0m\u001b[0mresult_t\u001b[0m\u001b[1;33m,\u001b[0m \u001b[0mcopy\u001b[0m\u001b[1;33m=\u001b[0m\u001b[1;32mFalse\u001b[0m\u001b[1;33m)\u001b[0m\u001b[1;33m)\u001b[0m\u001b[1;33m\u001b[0m\u001b[1;33m\u001b[0m\u001b[0m\n",
      "\u001b[1;32mC:\\ProgramData\\Anaconda3\\lib\\site-packages\\numpy\\linalg\\linalg.py\u001b[0m in \u001b[0;36m_raise_linalgerror_singular\u001b[1;34m(err, flag)\u001b[0m\n\u001b[0;32m     86\u001b[0m \u001b[1;33m\u001b[0m\u001b[0m\n\u001b[0;32m     87\u001b[0m \u001b[1;32mdef\u001b[0m \u001b[0m_raise_linalgerror_singular\u001b[0m\u001b[1;33m(\u001b[0m\u001b[0merr\u001b[0m\u001b[1;33m,\u001b[0m \u001b[0mflag\u001b[0m\u001b[1;33m)\u001b[0m\u001b[1;33m:\u001b[0m\u001b[1;33m\u001b[0m\u001b[1;33m\u001b[0m\u001b[0m\n\u001b[1;32m---> 88\u001b[1;33m     \u001b[1;32mraise\u001b[0m \u001b[0mLinAlgError\u001b[0m\u001b[1;33m(\u001b[0m\u001b[1;34m\"Singular matrix\"\u001b[0m\u001b[1;33m)\u001b[0m\u001b[1;33m\u001b[0m\u001b[1;33m\u001b[0m\u001b[0m\n\u001b[0m\u001b[0;32m     89\u001b[0m \u001b[1;33m\u001b[0m\u001b[0m\n\u001b[0;32m     90\u001b[0m \u001b[1;32mdef\u001b[0m \u001b[0m_raise_linalgerror_nonposdef\u001b[0m\u001b[1;33m(\u001b[0m\u001b[0merr\u001b[0m\u001b[1;33m,\u001b[0m \u001b[0mflag\u001b[0m\u001b[1;33m)\u001b[0m\u001b[1;33m:\u001b[0m\u001b[1;33m\u001b[0m\u001b[1;33m\u001b[0m\u001b[0m\n",
      "\u001b[1;31mLinAlgError\u001b[0m: Singular matrix"
     ]
    }
   ],
   "source": [
    "F=np.array([[1,2],[2,4]])\n",
    "d=np.array([0,0])\n",
    "print(np.linalg.solve(F, d))"
   ]
  },
  {
   "cell_type": "markdown",
   "id": "e412b5b8",
   "metadata": {},
   "source": [
    "# C-7"
   ]
  },
  {
   "cell_type": "code",
   "execution_count": 314,
   "id": "739f80ab",
   "metadata": {},
   "outputs": [
    {
     "name": "stdout",
     "output_type": "stream",
     "text": [
      "[0. 0.]\n"
     ]
    }
   ],
   "source": [
    "D=np.array([[1,2],[3,2]])\n",
    "d=np.array([0,0])\n",
    "print(np.linalg.solve(D, d))"
   ]
  },
  {
   "cell_type": "code",
   "execution_count": null,
   "id": "09f929c9",
   "metadata": {},
   "outputs": [],
   "source": []
  }
 ],
 "metadata": {
  "kernelspec": {
   "display_name": "Python 3 (ipykernel)",
   "language": "python",
   "name": "python3"
  },
  "language_info": {
   "codemirror_mode": {
    "name": "ipython",
    "version": 3
   },
   "file_extension": ".py",
   "mimetype": "text/x-python",
   "name": "python",
   "nbconvert_exporter": "python",
   "pygments_lexer": "ipython3",
   "version": "3.9.7"
  }
 },
 "nbformat": 4,
 "nbformat_minor": 5
}
